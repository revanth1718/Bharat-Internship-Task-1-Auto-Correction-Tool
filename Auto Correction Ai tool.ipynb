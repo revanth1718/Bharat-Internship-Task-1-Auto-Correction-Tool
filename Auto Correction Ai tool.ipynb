{
 "cells": [
  {
   "cell_type": "code",
   "execution_count": 1,
   "id": "753a4791",
   "metadata": {},
   "outputs": [
    {
     "name": "stdout",
     "output_type": "stream",
     "text": [
      "Requirement already satisfied: pyspellchecker in d:\\anaconda3\\lib\\site-packages (0.7.2)\n"
     ]
    }
   ],
   "source": [
    "! pip install pyspellchecker"
   ]
  },
  {
   "cell_type": "code",
   "execution_count": 2,
   "id": "b122f983",
   "metadata": {},
   "outputs": [
    {
     "name": "stdout",
     "output_type": "stream",
     "text": [
      "Enter a sentenceData scienttiest is a very promissing carrer\n",
      "The AUTOCORRECT suggestions are Mis-spelled words are {'scienttiest': 'scientist', 'promissing': 'promising', 'carrer': 'career'}\n",
      "Data scientist is a very promising career\n"
     ]
    }
   ],
   "source": [
    "from spellchecker import SpellChecker\n",
    "spell=SpellChecker()\n",
    "text=input(\"Enter a sentence\")\n",
    "dict_of_autocorrect_words ={}\n",
    "for i in spell.unknown(text.split()):\n",
    "  dict_of_autocorrect_words[i] = spell.correction(i)\n",
    "print(f'The AUTOCORRECT suggestions are Mis-spelled words are {dict_of_autocorrect_words}')\n",
    "temp=text.split()\n",
    "res=[]\n",
    "for wrd in temp:\n",
    "  res.append(dict_of_autocorrect_words.get(wrd, wrd))\n",
    "res=' '.join(res)\n",
    "print(res)\n",
    "     "
   ]
  },
  {
   "cell_type": "code",
   "execution_count": null,
   "id": "a4df0ca3",
   "metadata": {},
   "outputs": [],
   "source": []
  }
 ],
 "metadata": {
  "kernelspec": {
   "display_name": "Python 3 (ipykernel)",
   "language": "python",
   "name": "python3"
  },
  "language_info": {
   "codemirror_mode": {
    "name": "ipython",
    "version": 3
   },
   "file_extension": ".py",
   "mimetype": "text/x-python",
   "name": "python",
   "nbconvert_exporter": "python",
   "pygments_lexer": "ipython3",
   "version": "3.9.13"
  }
 },
 "nbformat": 4,
 "nbformat_minor": 5
}
